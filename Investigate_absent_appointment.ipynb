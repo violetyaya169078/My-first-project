{
 "cells": [
  {
   "cell_type": "markdown",
   "metadata": {
    "id": "0-EGjjcr_E2S"
   },
   "source": [
    "# No Show Appointment Analyze (Brazil, 2016)\n",
    "\n",
    "## Table of Contents\n",
    "<ul>\n",
    "<li><a href=\"#nsad\">No Show Appointments Data</a></li>\n",
    "<li><a href=\"#gender\">What genders might refuse going back to hospitals</a></li>\n",
    "<li><a href=\"#age\">What ages tend not to revisit</a></li>\n",
    "<li><a href=\"#reason\">Probable reasons</a></li>\n",
    "<li><a href=\"#sum\">Summary</a></li>\n",
    "</ul>\n",
    "\n",
    "After all the processes and instructions, why don't the patients show up at appointments?"
   ]
  },
  {
   "cell_type": "code",
   "execution_count": null,
   "metadata": {
    "id": "rlpl3zJZ_E2W"
   },
   "outputs": [],
   "source": [
    "import pandas as pd\n",
    "import numpy as np\n",
    "import matplotlib.pyplot as plt\n",
    "import seaborn as sns\n",
    "%matplotlib inline"
   ]
  },
  {
   "cell_type": "markdown",
   "metadata": {
    "id": "f4wMlFF__E2X"
   },
   "source": [
    "<a id='nsad'></a>\n",
    "## No Show Appointments Data"
   ]
  },
  {
   "cell_type": "code",
   "execution_count": null,
   "metadata": {
    "colab": {
     "base_uri": "https://localhost:8080/",
     "height": 316
    },
    "id": "GSwGMEzb_E2X",
    "outputId": "3501683c-6f6d-4075-8f16-025131af13d9"
   },
   "outputs": [
    {
     "data": {
      "text/html": [
       "<div>\n",
       "<style scoped>\n",
       "    .dataframe tbody tr th:only-of-type {\n",
       "        vertical-align: middle;\n",
       "    }\n",
       "\n",
       "    .dataframe tbody tr th {\n",
       "        vertical-align: top;\n",
       "    }\n",
       "\n",
       "    .dataframe thead th {\n",
       "        text-align: right;\n",
       "    }\n",
       "</style>\n",
       "<table border=\"1\" class=\"dataframe\">\n",
       "  <thead>\n",
       "    <tr style=\"text-align: right;\">\n",
       "      <th></th>\n",
       "      <th>PatientId</th>\n",
       "      <th>AppointmentID</th>\n",
       "      <th>Gender</th>\n",
       "      <th>ScheduledDay</th>\n",
       "      <th>AppointmentDay</th>\n",
       "      <th>Age</th>\n",
       "      <th>Neighbourhood</th>\n",
       "      <th>Scholarship</th>\n",
       "      <th>Hipertension</th>\n",
       "      <th>Diabetes</th>\n",
       "      <th>Alcoholism</th>\n",
       "      <th>Handcap</th>\n",
       "      <th>SMS_received</th>\n",
       "      <th>No-show</th>\n",
       "    </tr>\n",
       "  </thead>\n",
       "  <tbody>\n",
       "    <tr>\n",
       "      <th>0</th>\n",
       "      <td>2.987250e+13</td>\n",
       "      <td>5642903</td>\n",
       "      <td>F</td>\n",
       "      <td>2016-04-29T18:38:08Z</td>\n",
       "      <td>2016-04-29T00:00:00Z</td>\n",
       "      <td>62</td>\n",
       "      <td>JARDIM DA PENHA</td>\n",
       "      <td>0</td>\n",
       "      <td>1.0</td>\n",
       "      <td>0.0</td>\n",
       "      <td>0.0</td>\n",
       "      <td>0.0</td>\n",
       "      <td>0.0</td>\n",
       "      <td>No</td>\n",
       "    </tr>\n",
       "    <tr>\n",
       "      <th>1</th>\n",
       "      <td>5.589978e+14</td>\n",
       "      <td>5642503</td>\n",
       "      <td>M</td>\n",
       "      <td>2016-04-29T16:08:27Z</td>\n",
       "      <td>2016-04-29T00:00:00Z</td>\n",
       "      <td>56</td>\n",
       "      <td>JARDIM DA PENHA</td>\n",
       "      <td>0</td>\n",
       "      <td>0.0</td>\n",
       "      <td>0.0</td>\n",
       "      <td>0.0</td>\n",
       "      <td>0.0</td>\n",
       "      <td>0.0</td>\n",
       "      <td>No</td>\n",
       "    </tr>\n",
       "    <tr>\n",
       "      <th>2</th>\n",
       "      <td>4.262962e+12</td>\n",
       "      <td>5642549</td>\n",
       "      <td>F</td>\n",
       "      <td>2016-04-29T16:19:04Z</td>\n",
       "      <td>2016-04-29T00:00:00Z</td>\n",
       "      <td>62</td>\n",
       "      <td>MATA DA PRAIA</td>\n",
       "      <td>0</td>\n",
       "      <td>0.0</td>\n",
       "      <td>0.0</td>\n",
       "      <td>0.0</td>\n",
       "      <td>0.0</td>\n",
       "      <td>0.0</td>\n",
       "      <td>No</td>\n",
       "    </tr>\n",
       "    <tr>\n",
       "      <th>3</th>\n",
       "      <td>8.679512e+11</td>\n",
       "      <td>5642828</td>\n",
       "      <td>F</td>\n",
       "      <td>2016-04-29T17:29:31Z</td>\n",
       "      <td>2016-04-29T00:00:00Z</td>\n",
       "      <td>8</td>\n",
       "      <td>PONTAL DE CAMBURI</td>\n",
       "      <td>0</td>\n",
       "      <td>0.0</td>\n",
       "      <td>0.0</td>\n",
       "      <td>0.0</td>\n",
       "      <td>0.0</td>\n",
       "      <td>0.0</td>\n",
       "      <td>No</td>\n",
       "    </tr>\n",
       "    <tr>\n",
       "      <th>4</th>\n",
       "      <td>8.841186e+12</td>\n",
       "      <td>5642494</td>\n",
       "      <td>F</td>\n",
       "      <td>2016-04-29T16:07:23Z</td>\n",
       "      <td>2016-04-29T00:00:00Z</td>\n",
       "      <td>56</td>\n",
       "      <td>JARDIM DA PENHA</td>\n",
       "      <td>0</td>\n",
       "      <td>1.0</td>\n",
       "      <td>1.0</td>\n",
       "      <td>0.0</td>\n",
       "      <td>0.0</td>\n",
       "      <td>0.0</td>\n",
       "      <td>No</td>\n",
       "    </tr>\n",
       "  </tbody>\n",
       "</table>\n",
       "</div>"
      ],
      "text/plain": [
       "      PatientId  AppointmentID Gender  ... Handcap SMS_received  No-show\n",
       "0  2.987250e+13        5642903      F  ...     0.0          0.0       No\n",
       "1  5.589978e+14        5642503      M  ...     0.0          0.0       No\n",
       "2  4.262962e+12        5642549      F  ...     0.0          0.0       No\n",
       "3  8.679512e+11        5642828      F  ...     0.0          0.0       No\n",
       "4  8.841186e+12        5642494      F  ...     0.0          0.0       No\n",
       "\n",
       "[5 rows x 14 columns]"
      ]
     },
     "execution_count": 2,
     "metadata": {
      "tags": []
     },
     "output_type": "execute_result"
    }
   ],
   "source": [
    "#load the datasets\n",
    "no_show = pd.read_csv('noshowappointments2016.csv')\n",
    "no_show.head()"
   ]
  },
  {
   "cell_type": "code",
   "execution_count": null,
   "metadata": {
    "colab": {
     "base_uri": "https://localhost:8080/"
    },
    "id": "TE6pUqDJ_E2Y",
    "outputId": "270f8b02-b450-4ac5-c330-98305512fc11"
   },
   "outputs": [
    {
     "name": "stdout",
     "output_type": "stream",
     "text": [
      "<class 'pandas.core.frame.DataFrame'>\n",
      "RangeIndex: 64731 entries, 0 to 64730\n",
      "Data columns (total 14 columns):\n",
      " #   Column          Non-Null Count  Dtype  \n",
      "---  ------          --------------  -----  \n",
      " 0   PatientId       64731 non-null  float64\n",
      " 1   AppointmentID   64731 non-null  int64  \n",
      " 2   Gender          64731 non-null  object \n",
      " 3   ScheduledDay    64731 non-null  object \n",
      " 4   AppointmentDay  64731 non-null  object \n",
      " 5   Age             64731 non-null  int64  \n",
      " 6   Neighbourhood   64731 non-null  object \n",
      " 7   Scholarship     64731 non-null  int64  \n",
      " 8   Hipertension    64730 non-null  float64\n",
      " 9   Diabetes        64730 non-null  float64\n",
      " 10  Alcoholism      64730 non-null  float64\n",
      " 11  Handcap         64730 non-null  float64\n",
      " 12  SMS_received    64730 non-null  float64\n",
      " 13  No-show         64730 non-null  object \n",
      "dtypes: float64(6), int64(3), object(5)\n",
      "memory usage: 6.9+ MB\n"
     ]
    }
   ],
   "source": [
    "no_show.info()"
   ]
  },
  {
   "cell_type": "code",
   "execution_count": null,
   "metadata": {
    "colab": {
     "base_uri": "https://localhost:8080/"
    },
    "id": "RjD80o8k_E2Z",
    "outputId": "29be999a-c9e5-413a-be41-0fd4df124a2b"
   },
   "outputs": [
    {
     "data": {
      "text/plain": [
       "0"
      ]
     },
     "execution_count": 4,
     "metadata": {
      "tags": []
     },
     "output_type": "execute_result"
    }
   ],
   "source": [
    "sum(no_show.duplicated())"
   ]
  },
  {
   "cell_type": "code",
   "execution_count": null,
   "metadata": {
    "colab": {
     "base_uri": "https://localhost:8080/",
     "height": 195
    },
    "id": "fHhATovV_E2Z",
    "outputId": "ac5910df-0cdc-4d5d-d65d-7a273fd8b072",
    "scrolled": false
   },
   "outputs": [
    {
     "data": {
      "text/html": [
       "<div>\n",
       "<style scoped>\n",
       "    .dataframe tbody tr th:only-of-type {\n",
       "        vertical-align: middle;\n",
       "    }\n",
       "\n",
       "    .dataframe tbody tr th {\n",
       "        vertical-align: top;\n",
       "    }\n",
       "\n",
       "    .dataframe thead th {\n",
       "        text-align: right;\n",
       "    }\n",
       "</style>\n",
       "<table border=\"1\" class=\"dataframe\">\n",
       "  <thead>\n",
       "    <tr style=\"text-align: right;\">\n",
       "      <th></th>\n",
       "      <th>Gender</th>\n",
       "      <th>Age</th>\n",
       "      <th>Neighbourhood</th>\n",
       "      <th>Scholarship</th>\n",
       "      <th>Hipertension</th>\n",
       "      <th>Diabetes</th>\n",
       "      <th>Alcoholism</th>\n",
       "      <th>Handicap</th>\n",
       "      <th>SMS_received</th>\n",
       "      <th>No_show</th>\n",
       "    </tr>\n",
       "  </thead>\n",
       "  <tbody>\n",
       "    <tr>\n",
       "      <th>0</th>\n",
       "      <td>F</td>\n",
       "      <td>62</td>\n",
       "      <td>JARDIM DA PENHA</td>\n",
       "      <td>No</td>\n",
       "      <td>Yes</td>\n",
       "      <td>No</td>\n",
       "      <td>No</td>\n",
       "      <td>No</td>\n",
       "      <td>No</td>\n",
       "      <td>No</td>\n",
       "    </tr>\n",
       "    <tr>\n",
       "      <th>1</th>\n",
       "      <td>M</td>\n",
       "      <td>56</td>\n",
       "      <td>JARDIM DA PENHA</td>\n",
       "      <td>No</td>\n",
       "      <td>No</td>\n",
       "      <td>No</td>\n",
       "      <td>No</td>\n",
       "      <td>No</td>\n",
       "      <td>No</td>\n",
       "      <td>No</td>\n",
       "    </tr>\n",
       "    <tr>\n",
       "      <th>2</th>\n",
       "      <td>F</td>\n",
       "      <td>62</td>\n",
       "      <td>MATA DA PRAIA</td>\n",
       "      <td>No</td>\n",
       "      <td>No</td>\n",
       "      <td>No</td>\n",
       "      <td>No</td>\n",
       "      <td>No</td>\n",
       "      <td>No</td>\n",
       "      <td>No</td>\n",
       "    </tr>\n",
       "    <tr>\n",
       "      <th>3</th>\n",
       "      <td>F</td>\n",
       "      <td>8</td>\n",
       "      <td>PONTAL DE CAMBURI</td>\n",
       "      <td>No</td>\n",
       "      <td>No</td>\n",
       "      <td>No</td>\n",
       "      <td>No</td>\n",
       "      <td>No</td>\n",
       "      <td>No</td>\n",
       "      <td>No</td>\n",
       "    </tr>\n",
       "    <tr>\n",
       "      <th>4</th>\n",
       "      <td>F</td>\n",
       "      <td>56</td>\n",
       "      <td>JARDIM DA PENHA</td>\n",
       "      <td>No</td>\n",
       "      <td>Yes</td>\n",
       "      <td>Yes</td>\n",
       "      <td>No</td>\n",
       "      <td>No</td>\n",
       "      <td>No</td>\n",
       "      <td>No</td>\n",
       "    </tr>\n",
       "  </tbody>\n",
       "</table>\n",
       "</div>"
      ],
      "text/plain": [
       "  Gender  Age      Neighbourhood  ... Handicap SMS_received No_show\n",
       "0      F   62    JARDIM DA PENHA  ...       No           No      No\n",
       "1      M   56    JARDIM DA PENHA  ...       No           No      No\n",
       "2      F   62      MATA DA PRAIA  ...       No           No      No\n",
       "3      F    8  PONTAL DE CAMBURI  ...       No           No      No\n",
       "4      F   56    JARDIM DA PENHA  ...       No           No      No\n",
       "\n",
       "[5 rows x 10 columns]"
      ]
     },
     "execution_count": 5,
     "metadata": {
      "tags": []
     },
     "output_type": "execute_result"
    }
   ],
   "source": [
    "#rename columns\n",
    "no_show = no_show.rename(columns = {'Handcap' : 'Handicap'})\n",
    "no_show = no_show.rename(columns = {'No-show' : 'No_show'})\n",
    "\n",
    "#fix dtype\n",
    "for col in ['Scholarship', 'Hipertension', 'Diabetes', 'Alcoholism', 'Handicap', 'SMS_received']:\n",
    "    no_show[col] = no_show[col].astype(bool)\n",
    "bool_cols = no_show.columns[no_show.dtypes == 'bool']\n",
    "no_show[bool_cols] = no_show[bool_cols].replace({True: 'Yes', False: 'No'})\n",
    "\n",
    "#drop unnecessary columns\n",
    "no_show.drop(['PatientId', 'AppointmentID', 'ScheduledDay', 'AppointmentDay'], axis = 1, inplace = True)\n",
    "no_show.head()"
   ]
  },
  {
   "cell_type": "code",
   "execution_count": null,
   "metadata": {
    "colab": {
     "base_uri": "https://localhost:8080/"
    },
    "id": "OV6B1YAS_E2a",
    "outputId": "18cbf561-4e81-423a-f333-740e89f49fc9"
   },
   "outputs": [
    {
     "data": {
      "text/plain": [
       "count    64731.000000\n",
       "mean        36.678160\n",
       "std         22.923713\n",
       "min          0.000000\n",
       "25%         17.000000\n",
       "50%         36.000000\n",
       "75%         55.000000\n",
       "max        115.000000\n",
       "Name: Age, dtype: float64"
      ]
     },
     "execution_count": 6,
     "metadata": {
      "tags": []
     },
     "output_type": "execute_result"
    }
   ],
   "source": [
    "no_show['Age'].describe()"
   ]
  },
  {
   "cell_type": "code",
   "execution_count": null,
   "metadata": {
    "colab": {
     "base_uri": "https://localhost:8080/"
    },
    "id": "0xeAdLui_E2a",
    "outputId": "ac91a31a-bf8a-45cb-d5a0-0754fcdd0a47"
   },
   "outputs": [
    {
     "data": {
      "text/plain": [
       "F    41750\n",
       "M    22981\n",
       "Name: Gender, dtype: int64"
      ]
     },
     "execution_count": 7,
     "metadata": {
      "tags": []
     },
     "output_type": "execute_result"
    }
   ],
   "source": [
    "no_show['Gender'].value_counts()"
   ]
  },
  {
   "cell_type": "code",
   "execution_count": null,
   "metadata": {
    "id": "rwKCn7Ni_E2b"
   },
   "outputs": [],
   "source": [
    "no_show['Age'] = no_show['Age'].astype(int)"
   ]
  },
  {
   "cell_type": "code",
   "execution_count": null,
   "metadata": {
    "id": "kFUsuNLV_E2b"
   },
   "outputs": [],
   "source": [
    "#new data which patients have at least one health issue\n",
    "con = np.where((no_show.No_show == 'Yes') & ((no_show.Hipertension == 'Yes') | (no_show.Scholarship == 'Yes') | (no_show.Diabetes == 'Yes') | (no_show.Alcoholism == 'Yes') | (no_show.Handicap == 'Yes')))\n",
    "new = no_show.loc[con]\n",
    "new.drop('No_show', axis = 1, inplace = True)"
   ]
  },
  {
   "cell_type": "code",
   "execution_count": null,
   "metadata": {
    "colab": {
     "base_uri": "https://localhost:8080/"
    },
    "id": "4J3zmslYSyjB",
    "outputId": "b363affc-9404-44bc-e6e7-9e6ec01fc021"
   },
   "outputs": [
    {
     "data": {
      "text/plain": [
       "count    62607.000000\n",
       "mean        37.922501\n",
       "std         22.274102\n",
       "min          1.000000\n",
       "25%         19.000000\n",
       "50%         37.000000\n",
       "75%         55.000000\n",
       "max        115.000000\n",
       "Name: Age, dtype: float64"
      ]
     },
     "execution_count": 10,
     "metadata": {
      "tags": []
     },
     "output_type": "execute_result"
    }
   ],
   "source": [
    "#drop ages outliers\n",
    "index = no_show[(no_show['Age'] <= 0)].index\n",
    "no_show.drop(index, inplace = True)\n",
    "no_show['Age'].describe()"
   ]
  },
  {
   "cell_type": "markdown",
   "metadata": {
    "id": "vHD6F4f8_E2b"
   },
   "source": [
    "<a id='reason'></a>\n",
    "## What genders might refuse going back to hospitals"
   ]
  },
  {
   "cell_type": "code",
   "execution_count": null,
   "metadata": {
    "colab": {
     "base_uri": "https://localhost:8080/",
     "height": 285
    },
    "id": "R-5LY5Qp_E2c",
    "outputId": "b053b869-db99-41ab-a480-f1f656f1ce39"
   },
   "outputs": [
    {
     "data": {
      "image/png": "[encoded data removed]",
      "text/plain": [
       "<Figure size 432x288 with 1 Axes>"
      ]
     },
     "metadata": {
      "tags": []
     },
     "output_type": "display_data"
    }
   ],
   "source": [
    "#count gender\n",
    "sns.set(style = 'darkgrid')\n",
    "ax = sns.countplot(x = 'Gender', data = new)"
   ]
  },
  {
   "cell_type": "markdown",
   "metadata": {
    "id": "c48B2GL8_E2c"
   },
   "source": [
    "Female patients refuse to go back to hospitals are twice as many as male patients."
   ]
  },
  {
   "cell_type": "markdown",
   "metadata": {
    "id": "HvgeZgbB_E2c"
   },
   "source": [
    "<a id='age'></a>\n",
    "## What ages tend not to revisit"
   ]
  },
  {
   "cell_type": "code",
   "execution_count": null,
   "metadata": {
    "colab": {
     "base_uri": "https://localhost:8080/",
     "height": 285
    },
    "id": "RX4WuOsJ_E2c",
    "outputId": "b2209f40-6d06-456a-c9fb-cf425f909695"
   },
   "outputs": [
    {
     "data": {
      "image/png": "[encoded data removed]",
      "text/plain": [
       "<Figure size 432x288 with 1 Axes>"
      ]
     },
     "metadata": {
      "tags": []
     },
     "output_type": "display_data"
    }
   ],
   "source": [
    "#age group\n",
    "sns.set(style = \"darkgrid\")\n",
    "sns.boxplot(x ='Age', data = new)\n",
    "plt.show();"
   ]
  },
  {
   "cell_type": "markdown",
   "metadata": {
    "id": "IujwgiiM_E2d"
   },
   "source": [
    "Ages around 50 tend not to revisit."
   ]
  },
  {
   "cell_type": "markdown",
   "metadata": {
    "id": "Fui_q_fv_E2d"
   },
   "source": [
    "<a id='reason'></a>\n",
    "## Possible reasons"
   ]
  },
  {
   "cell_type": "code",
   "execution_count": null,
   "metadata": {
    "colab": {
     "base_uri": "https://localhost:8080/"
    },
    "id": "SZiNUVJP_E2d",
    "outputId": "72ecd7aa-f6c3-4944-d37e-c92432151874"
   },
   "outputs": [
    {
     "data": {
      "text/plain": [
       "RESISTÊNCIA         194\n",
       "GURIGICA            170\n",
       "SANTO ANDRÉ         165\n",
       "DA PENHA            155\n",
       "ILHA DO PRÍNCIPE    141\n",
       "CARATOÍRA           137\n",
       "SANTOS DUMONT       131\n",
       "ANDORINHAS          120\n",
       "CENTRO              116\n",
       "JARDIM DA PENHA     116\n",
       "Name: Neighbourhood, dtype: int64"
      ]
     },
     "execution_count": 14,
     "metadata": {
      "tags": []
     },
     "output_type": "execute_result"
    }
   ],
   "source": [
    "#collect the top 10 neighbourhoods with health issues and not showing up\n",
    "values = new['Neighbourhood'].value_counts()[:10]\n",
    "values"
   ]
  },
  {
   "cell_type": "markdown",
   "metadata": {
    "id": "n12tddlh_E2d"
   },
   "source": [
    "We'll choose the first ten places, with over 200 patients absent.[1]"
   ]
  },
  {
   "cell_type": "code",
   "execution_count": null,
   "metadata": {
    "colab": {
     "base_uri": "https://localhost:8080/",
     "height": 480
    },
    "id": "3Y6sCenU_E2d",
    "outputId": "3710173b-66a2-450c-a81b-e8f80cf42fbe"
   },
   "outputs": [
    {
     "data": {
      "image/png": "[encoded data removed]",
      "text/plain": [
       "<Figure size 1058.4x595.44 with 1 Axes>"
      ]
     },
     "metadata": {
      "tags": []
     },
     "output_type": "display_data"
    }
   ],
   "source": [
    "#using pie chart to see its proportion\n",
    "theme = plt.get_cmap('YlGnBu')\n",
    "values.plot.pie(cmap = theme, figsize = [14.7, 8.27])\n",
    "labels = ['RESISTÊNCIA',\n",
    "      'GURIGICA',\n",
    "      'SANTO ANDRÉ',\n",
    "      'DA PENHA',\n",
    "      'ILHA DO PRÍNCIPE',\n",
    "      'CARATOÍRA',\n",
    "      'SANTOS DUMONT',\n",
    "      'ANDORINHAS',\n",
    "      'CENTRO',\n",
    "      'JARDIM DA PENHA']\n",
    "total = sum(values)\n",
    "\n",
    "plt.ylabel(\"\")\n",
    "plt.legend(\n",
    "    loc = 'upper left',\n",
    "    labels = ['%s, %1.1f%%' % (\n",
    "        l, (float(s) / total) * 100)\n",
    "            for l, s in zip(labels, values)],\n",
    "    prop = {'size': 11},\n",
    "    bbox_to_anchor = (0.0, 1),\n",
    "    title = \"Top 10 Absent Places\"\n",
    ")\n",
    " \n",
    "plt.axis('equal');"
   ]
  },
  {
   "cell_type": "markdown",
   "metadata": {
    "id": "6fCjpRGF5d8m"
   },
   "source": [
    "Resistencia has the highest non returns, it could be result from various health issues or their local medical conditions."
   ]
  },
  {
   "cell_type": "markdown",
   "metadata": {
    "id": "-cGEWubL_E2e"
   },
   "source": [
    "### Places and health issues\n",
    "Above the top ten non showing places, what kind of health issues have the most in absent reasons."
   ]
  },
  {
   "cell_type": "code",
   "execution_count": null,
   "metadata": {
    "colab": {
     "base_uri": "https://localhost:8080/"
    },
    "id": "8Q3iZ0LF_E2f",
    "outputId": "3795dcbe-bd87-42fa-f843-3695af558841"
   },
   "outputs": [
    {
     "data": {
      "text/plain": [
       "Index(['RESISTÊNCIA', 'GURIGICA', 'SANTO ANDRÉ', 'DA PENHA',\n",
       "       'ILHA DO PRÍNCIPE', 'CARATOÍRA', 'SANTOS DUMONT', 'ANDORINHAS',\n",
       "       'CENTRO', 'JARDIM DA PENHA'],\n",
       "      dtype='object')"
      ]
     },
     "execution_count": 17,
     "metadata": {
      "tags": []
     },
     "output_type": "execute_result"
    }
   ],
   "source": [
    "#top 10 neighbourhoods\n",
    "\n",
    "myneighbourhoods = values.index\n",
    "myneighbourhoods"
   ]
  },
  {
   "cell_type": "code",
   "execution_count": null,
   "metadata": {
    "id": "ikmuJfMT_E2f"
   },
   "outputs": [],
   "source": [
    "def neighbourhoodsvaluecounts(grp, neighbourhood):\n",
    "    #group 'Neighbourhood' and sum up Boolean values\n",
    "    \n",
    "    #get the group for particular neighbourhood\n",
    "    grpN = grp.get_group(neighbourhood)\n",
    "    \n",
    "    #not counting neighbourhoods\n",
    "    grpN = grpN.drop(['Neighbourhood','Gender','Age'], axis = 1)\n",
    "    \n",
    "    #return results(value counts for each column)\n",
    "    return(grpN.apply(pd.value_counts))"
   ]
  },
  {
   "cell_type": "code",
   "execution_count": null,
   "metadata": {
    "colab": {
     "base_uri": "https://localhost:8080/",
     "height": 1000
    },
    "id": "vPq3Gyqg_E2g",
    "outputId": "db9d5c7b-a792-4f03-d6c2-c27ed2650d2c"
   },
   "outputs": [
    {
     "name": "stdout",
     "output_type": "stream",
     "text": [
      "RESISTÊNCIA\n"
     ]
    },
    {
     "data": {
      "text/html": [
       "<div>\n",
       "<style scoped>\n",
       "    .dataframe tbody tr th:only-of-type {\n",
       "        vertical-align: middle;\n",
       "    }\n",
       "\n",
       "    .dataframe tbody tr th {\n",
       "        vertical-align: top;\n",
       "    }\n",
       "\n",
       "    .dataframe thead th {\n",
       "        text-align: right;\n",
       "    }\n",
       "</style>\n",
       "<table border=\"1\" class=\"dataframe\">\n",
       "  <thead>\n",
       "    <tr style=\"text-align: right;\">\n",
       "      <th></th>\n",
       "      <th>Scholarship</th>\n",
       "      <th>Hipertension</th>\n",
       "      <th>Diabetes</th>\n",
       "      <th>Alcoholism</th>\n",
       "      <th>Handicap</th>\n",
       "      <th>SMS_received</th>\n",
       "    </tr>\n",
       "  </thead>\n",
       "  <tbody>\n",
       "    <tr>\n",
       "      <th>No</th>\n",
       "      <td>116</td>\n",
       "      <td>91</td>\n",
       "      <td>157</td>\n",
       "      <td>175</td>\n",
       "      <td>186</td>\n",
       "      <td>114</td>\n",
       "    </tr>\n",
       "    <tr>\n",
       "      <th>Yes</th>\n",
       "      <td>78</td>\n",
       "      <td>103</td>\n",
       "      <td>37</td>\n",
       "      <td>19</td>\n",
       "      <td>8</td>\n",
       "      <td>80</td>\n",
       "    </tr>\n",
       "  </tbody>\n",
       "</table>\n",
       "</div>"
      ],
      "text/plain": [
       "     Scholarship  Hipertension  Diabetes  Alcoholism  Handicap  SMS_received\n",
       "No           116            91       157         175       186           114\n",
       "Yes           78           103        37          19         8            80"
      ]
     },
     "metadata": {
      "tags": []
     },
     "output_type": "display_data"
    },
    {
     "name": "stdout",
     "output_type": "stream",
     "text": [
      "GURIGICA\n"
     ]
    },
    {
     "data": {
      "text/html": [
       "<div>\n",
       "<style scoped>\n",
       "    .dataframe tbody tr th:only-of-type {\n",
       "        vertical-align: middle;\n",
       "    }\n",
       "\n",
       "    .dataframe tbody tr th {\n",
       "        vertical-align: top;\n",
       "    }\n",
       "\n",
       "    .dataframe thead th {\n",
       "        text-align: right;\n",
       "    }\n",
       "</style>\n",
       "<table border=\"1\" class=\"dataframe\">\n",
       "  <thead>\n",
       "    <tr style=\"text-align: right;\">\n",
       "      <th></th>\n",
       "      <th>Scholarship</th>\n",
       "      <th>Hipertension</th>\n",
       "      <th>Diabetes</th>\n",
       "      <th>Alcoholism</th>\n",
       "      <th>Handicap</th>\n",
       "      <th>SMS_received</th>\n",
       "    </tr>\n",
       "  </thead>\n",
       "  <tbody>\n",
       "    <tr>\n",
       "      <th>No</th>\n",
       "      <td>85</td>\n",
       "      <td>73</td>\n",
       "      <td>129</td>\n",
       "      <td>157</td>\n",
       "      <td>165</td>\n",
       "      <td>110</td>\n",
       "    </tr>\n",
       "    <tr>\n",
       "      <th>Yes</th>\n",
       "      <td>85</td>\n",
       "      <td>97</td>\n",
       "      <td>41</td>\n",
       "      <td>13</td>\n",
       "      <td>5</td>\n",
       "      <td>60</td>\n",
       "    </tr>\n",
       "  </tbody>\n",
       "</table>\n",
       "</div>"
      ],
      "text/plain": [
       "     Scholarship  Hipertension  Diabetes  Alcoholism  Handicap  SMS_received\n",
       "No            85            73       129         157       165           110\n",
       "Yes           85            97        41          13         5            60"
      ]
     },
     "metadata": {
      "tags": []
     },
     "output_type": "display_data"
    },
    {
     "name": "stdout",
     "output_type": "stream",
     "text": [
      "SANTO ANDRÉ\n"
     ]
    },
    {
     "data": {
      "text/html": [
       "<div>\n",
       "<style scoped>\n",
       "    .dataframe tbody tr th:only-of-type {\n",
       "        vertical-align: middle;\n",
       "    }\n",
       "\n",
       "    .dataframe tbody tr th {\n",
       "        vertical-align: top;\n",
       "    }\n",
       "\n",
       "    .dataframe thead th {\n",
       "        text-align: right;\n",
       "    }\n",
       "</style>\n",
       "<table border=\"1\" class=\"dataframe\">\n",
       "  <thead>\n",
       "    <tr style=\"text-align: right;\">\n",
       "      <th></th>\n",
       "      <th>Scholarship</th>\n",
       "      <th>Hipertension</th>\n",
       "      <th>Diabetes</th>\n",
       "      <th>Alcoholism</th>\n",
       "      <th>Handicap</th>\n",
       "      <th>SMS_received</th>\n",
       "    </tr>\n",
       "  </thead>\n",
       "  <tbody>\n",
       "    <tr>\n",
       "      <th>No</th>\n",
       "      <td>98</td>\n",
       "      <td>82</td>\n",
       "      <td>119</td>\n",
       "      <td>142</td>\n",
       "      <td>153</td>\n",
       "      <td>98</td>\n",
       "    </tr>\n",
       "    <tr>\n",
       "      <th>Yes</th>\n",
       "      <td>67</td>\n",
       "      <td>83</td>\n",
       "      <td>46</td>\n",
       "      <td>23</td>\n",
       "      <td>12</td>\n",
       "      <td>67</td>\n",
       "    </tr>\n",
       "  </tbody>\n",
       "</table>\n",
       "</div>"
      ],
      "text/plain": [
       "     Scholarship  Hipertension  Diabetes  Alcoholism  Handicap  SMS_received\n",
       "No            98            82       119         142       153            98\n",
       "Yes           67            83        46          23        12            67"
      ]
     },
     "metadata": {
      "tags": []
     },
     "output_type": "display_data"
    },
    {
     "name": "stdout",
     "output_type": "stream",
     "text": [
      "DA PENHA\n"
     ]
    },
    {
     "data": {
      "text/html": [
       "<div>\n",
       "<style scoped>\n",
       "    .dataframe tbody tr th:only-of-type {\n",
       "        vertical-align: middle;\n",
       "    }\n",
       "\n",
       "    .dataframe tbody tr th {\n",
       "        vertical-align: top;\n",
       "    }\n",
       "\n",
       "    .dataframe thead th {\n",
       "        text-align: right;\n",
       "    }\n",
       "</style>\n",
       "<table border=\"1\" class=\"dataframe\">\n",
       "  <thead>\n",
       "    <tr style=\"text-align: right;\">\n",
       "      <th></th>\n",
       "      <th>Scholarship</th>\n",
       "      <th>Hipertension</th>\n",
       "      <th>Diabetes</th>\n",
       "      <th>Alcoholism</th>\n",
       "      <th>Handicap</th>\n",
       "      <th>SMS_received</th>\n",
       "    </tr>\n",
       "  </thead>\n",
       "  <tbody>\n",
       "    <tr>\n",
       "      <th>No</th>\n",
       "      <td>88</td>\n",
       "      <td>69</td>\n",
       "      <td>120</td>\n",
       "      <td>129</td>\n",
       "      <td>138</td>\n",
       "      <td>100</td>\n",
       "    </tr>\n",
       "    <tr>\n",
       "      <th>Yes</th>\n",
       "      <td>67</td>\n",
       "      <td>86</td>\n",
       "      <td>35</td>\n",
       "      <td>26</td>\n",
       "      <td>17</td>\n",
       "      <td>55</td>\n",
       "    </tr>\n",
       "  </tbody>\n",
       "</table>\n",
       "</div>"
      ],
      "text/plain": [
       "     Scholarship  Hipertension  Diabetes  Alcoholism  Handicap  SMS_received\n",
       "No            88            69       120         129       138           100\n",
       "Yes           67            86        35          26        17            55"
      ]
     },
     "metadata": {
      "tags": []
     },
     "output_type": "display_data"
    },
    {
     "name": "stdout",
     "output_type": "stream",
     "text": [
      "ILHA DO PRÍNCIPE\n"
     ]
    },
    {
     "data": {
      "text/html": [
       "<div>\n",
       "<style scoped>\n",
       "    .dataframe tbody tr th:only-of-type {\n",
       "        vertical-align: middle;\n",
       "    }\n",
       "\n",
       "    .dataframe tbody tr th {\n",
       "        vertical-align: top;\n",
       "    }\n",
       "\n",
       "    .dataframe thead th {\n",
       "        text-align: right;\n",
       "    }\n",
       "</style>\n",
       "<table border=\"1\" class=\"dataframe\">\n",
       "  <thead>\n",
       "    <tr style=\"text-align: right;\">\n",
       "      <th></th>\n",
       "      <th>Scholarship</th>\n",
       "      <th>Hipertension</th>\n",
       "      <th>Diabetes</th>\n",
       "      <th>Alcoholism</th>\n",
       "      <th>Handicap</th>\n",
       "      <th>SMS_received</th>\n",
       "    </tr>\n",
       "  </thead>\n",
       "  <tbody>\n",
       "    <tr>\n",
       "      <th>No</th>\n",
       "      <td>48</td>\n",
       "      <td>95</td>\n",
       "      <td>132</td>\n",
       "      <td>136</td>\n",
       "      <td>136</td>\n",
       "      <td>70</td>\n",
       "    </tr>\n",
       "    <tr>\n",
       "      <th>Yes</th>\n",
       "      <td>93</td>\n",
       "      <td>46</td>\n",
       "      <td>9</td>\n",
       "      <td>5</td>\n",
       "      <td>5</td>\n",
       "      <td>71</td>\n",
       "    </tr>\n",
       "  </tbody>\n",
       "</table>\n",
       "</div>"
      ],
      "text/plain": [
       "     Scholarship  Hipertension  Diabetes  Alcoholism  Handicap  SMS_received\n",
       "No            48            95       132         136       136            70\n",
       "Yes           93            46         9           5         5            71"
      ]
     },
     "metadata": {
      "tags": []
     },
     "output_type": "display_data"
    },
    {
     "name": "stdout",
     "output_type": "stream",
     "text": [
      "CARATOÍRA\n"
     ]
    },
    {
     "data": {
      "text/html": [
       "<div>\n",
       "<style scoped>\n",
       "    .dataframe tbody tr th:only-of-type {\n",
       "        vertical-align: middle;\n",
       "    }\n",
       "\n",
       "    .dataframe tbody tr th {\n",
       "        vertical-align: top;\n",
       "    }\n",
       "\n",
       "    .dataframe thead th {\n",
       "        text-align: right;\n",
       "    }\n",
       "</style>\n",
       "<table border=\"1\" class=\"dataframe\">\n",
       "  <thead>\n",
       "    <tr style=\"text-align: right;\">\n",
       "      <th></th>\n",
       "      <th>Scholarship</th>\n",
       "      <th>Hipertension</th>\n",
       "      <th>Diabetes</th>\n",
       "      <th>Alcoholism</th>\n",
       "      <th>Handicap</th>\n",
       "      <th>SMS_received</th>\n",
       "    </tr>\n",
       "  </thead>\n",
       "  <tbody>\n",
       "    <tr>\n",
       "      <th>No</th>\n",
       "      <td>82</td>\n",
       "      <td>62</td>\n",
       "      <td>106</td>\n",
       "      <td>122</td>\n",
       "      <td>124</td>\n",
       "      <td>97</td>\n",
       "    </tr>\n",
       "    <tr>\n",
       "      <th>Yes</th>\n",
       "      <td>55</td>\n",
       "      <td>75</td>\n",
       "      <td>31</td>\n",
       "      <td>15</td>\n",
       "      <td>13</td>\n",
       "      <td>40</td>\n",
       "    </tr>\n",
       "  </tbody>\n",
       "</table>\n",
       "</div>"
      ],
      "text/plain": [
       "     Scholarship  Hipertension  Diabetes  Alcoholism  Handicap  SMS_received\n",
       "No            82            62       106         122       124            97\n",
       "Yes           55            75        31          15        13            40"
      ]
     },
     "metadata": {
      "tags": []
     },
     "output_type": "display_data"
    },
    {
     "name": "stdout",
     "output_type": "stream",
     "text": [
      "SANTOS DUMONT\n"
     ]
    },
    {
     "data": {
      "text/html": [
       "<div>\n",
       "<style scoped>\n",
       "    .dataframe tbody tr th:only-of-type {\n",
       "        vertical-align: middle;\n",
       "    }\n",
       "\n",
       "    .dataframe tbody tr th {\n",
       "        vertical-align: top;\n",
       "    }\n",
       "\n",
       "    .dataframe thead th {\n",
       "        text-align: right;\n",
       "    }\n",
       "</style>\n",
       "<table border=\"1\" class=\"dataframe\">\n",
       "  <thead>\n",
       "    <tr style=\"text-align: right;\">\n",
       "      <th></th>\n",
       "      <th>Scholarship</th>\n",
       "      <th>Hipertension</th>\n",
       "      <th>Diabetes</th>\n",
       "      <th>Alcoholism</th>\n",
       "      <th>Handicap</th>\n",
       "      <th>SMS_received</th>\n",
       "    </tr>\n",
       "  </thead>\n",
       "  <tbody>\n",
       "    <tr>\n",
       "      <th>No</th>\n",
       "      <td>83</td>\n",
       "      <td>41</td>\n",
       "      <td>100</td>\n",
       "      <td>121</td>\n",
       "      <td>130</td>\n",
       "      <td>94</td>\n",
       "    </tr>\n",
       "    <tr>\n",
       "      <th>Yes</th>\n",
       "      <td>48</td>\n",
       "      <td>90</td>\n",
       "      <td>31</td>\n",
       "      <td>10</td>\n",
       "      <td>1</td>\n",
       "      <td>37</td>\n",
       "    </tr>\n",
       "  </tbody>\n",
       "</table>\n",
       "</div>"
      ],
      "text/plain": [
       "     Scholarship  Hipertension  Diabetes  Alcoholism  Handicap  SMS_received\n",
       "No            83            41       100         121       130            94\n",
       "Yes           48            90        31          10         1            37"
      ]
     },
     "metadata": {
      "tags": []
     },
     "output_type": "display_data"
    },
    {
     "name": "stdout",
     "output_type": "stream",
     "text": [
      "ANDORINHAS\n"
     ]
    },
    {
     "data": {
      "text/html": [
       "<div>\n",
       "<style scoped>\n",
       "    .dataframe tbody tr th:only-of-type {\n",
       "        vertical-align: middle;\n",
       "    }\n",
       "\n",
       "    .dataframe tbody tr th {\n",
       "        vertical-align: top;\n",
       "    }\n",
       "\n",
       "    .dataframe thead th {\n",
       "        text-align: right;\n",
       "    }\n",
       "</style>\n",
       "<table border=\"1\" class=\"dataframe\">\n",
       "  <thead>\n",
       "    <tr style=\"text-align: right;\">\n",
       "      <th></th>\n",
       "      <th>Scholarship</th>\n",
       "      <th>Hipertension</th>\n",
       "      <th>Diabetes</th>\n",
       "      <th>Alcoholism</th>\n",
       "      <th>Handicap</th>\n",
       "      <th>SMS_received</th>\n",
       "    </tr>\n",
       "  </thead>\n",
       "  <tbody>\n",
       "    <tr>\n",
       "      <th>No</th>\n",
       "      <td>66</td>\n",
       "      <td>55</td>\n",
       "      <td>92</td>\n",
       "      <td>113</td>\n",
       "      <td>109</td>\n",
       "      <td>86</td>\n",
       "    </tr>\n",
       "    <tr>\n",
       "      <th>Yes</th>\n",
       "      <td>54</td>\n",
       "      <td>65</td>\n",
       "      <td>28</td>\n",
       "      <td>7</td>\n",
       "      <td>11</td>\n",
       "      <td>34</td>\n",
       "    </tr>\n",
       "  </tbody>\n",
       "</table>\n",
       "</div>"
      ],
      "text/plain": [
       "     Scholarship  Hipertension  Diabetes  Alcoholism  Handicap  SMS_received\n",
       "No            66            55        92         113       109            86\n",
       "Yes           54            65        28           7        11            34"
      ]
     },
     "metadata": {
      "tags": []
     },
     "output_type": "display_data"
    },
    {
     "name": "stdout",
     "output_type": "stream",
     "text": [
      "CENTRO\n"
     ]
    },
    {
     "data": {
      "text/html": [
       "<div>\n",
       "<style scoped>\n",
       "    .dataframe tbody tr th:only-of-type {\n",
       "        vertical-align: middle;\n",
       "    }\n",
       "\n",
       "    .dataframe tbody tr th {\n",
       "        vertical-align: top;\n",
       "    }\n",
       "\n",
       "    .dataframe thead th {\n",
       "        text-align: right;\n",
       "    }\n",
       "</style>\n",
       "<table border=\"1\" class=\"dataframe\">\n",
       "  <thead>\n",
       "    <tr style=\"text-align: right;\">\n",
       "      <th></th>\n",
       "      <th>Scholarship</th>\n",
       "      <th>Hipertension</th>\n",
       "      <th>Diabetes</th>\n",
       "      <th>Alcoholism</th>\n",
       "      <th>Handicap</th>\n",
       "      <th>SMS_received</th>\n",
       "    </tr>\n",
       "  </thead>\n",
       "  <tbody>\n",
       "    <tr>\n",
       "      <th>No</th>\n",
       "      <td>94</td>\n",
       "      <td>35</td>\n",
       "      <td>88</td>\n",
       "      <td>113</td>\n",
       "      <td>101</td>\n",
       "      <td>70</td>\n",
       "    </tr>\n",
       "    <tr>\n",
       "      <th>Yes</th>\n",
       "      <td>22</td>\n",
       "      <td>81</td>\n",
       "      <td>28</td>\n",
       "      <td>3</td>\n",
       "      <td>15</td>\n",
       "      <td>46</td>\n",
       "    </tr>\n",
       "  </tbody>\n",
       "</table>\n",
       "</div>"
      ],
      "text/plain": [
       "     Scholarship  Hipertension  Diabetes  Alcoholism  Handicap  SMS_received\n",
       "No            94            35        88         113       101            70\n",
       "Yes           22            81        28           3        15            46"
      ]
     },
     "metadata": {
      "tags": []
     },
     "output_type": "display_data"
    },
    {
     "name": "stdout",
     "output_type": "stream",
     "text": [
      "JARDIM DA PENHA\n"
     ]
    },
    {
     "data": {
      "text/html": [
       "<div>\n",
       "<style scoped>\n",
       "    .dataframe tbody tr th:only-of-type {\n",
       "        vertical-align: middle;\n",
       "    }\n",
       "\n",
       "    .dataframe tbody tr th {\n",
       "        vertical-align: top;\n",
       "    }\n",
       "\n",
       "    .dataframe thead th {\n",
       "        text-align: right;\n",
       "    }\n",
       "</style>\n",
       "<table border=\"1\" class=\"dataframe\">\n",
       "  <thead>\n",
       "    <tr style=\"text-align: right;\">\n",
       "      <th></th>\n",
       "      <th>Scholarship</th>\n",
       "      <th>Hipertension</th>\n",
       "      <th>Diabetes</th>\n",
       "      <th>Alcoholism</th>\n",
       "      <th>Handicap</th>\n",
       "      <th>SMS_received</th>\n",
       "    </tr>\n",
       "  </thead>\n",
       "  <tbody>\n",
       "    <tr>\n",
       "      <th>No</th>\n",
       "      <td>116.0</td>\n",
       "      <td>8</td>\n",
       "      <td>77</td>\n",
       "      <td>111</td>\n",
       "      <td>106</td>\n",
       "      <td>66</td>\n",
       "    </tr>\n",
       "    <tr>\n",
       "      <th>Yes</th>\n",
       "      <td>NaN</td>\n",
       "      <td>108</td>\n",
       "      <td>39</td>\n",
       "      <td>5</td>\n",
       "      <td>10</td>\n",
       "      <td>50</td>\n",
       "    </tr>\n",
       "  </tbody>\n",
       "</table>\n",
       "</div>"
      ],
      "text/plain": [
       "     Scholarship  Hipertension  Diabetes  Alcoholism  Handicap  SMS_received\n",
       "No         116.0             8        77         111       106            66\n",
       "Yes          NaN           108        39           5        10            50"
      ]
     },
     "metadata": {
      "tags": []
     },
     "output_type": "display_data"
    }
   ],
   "source": [
    "#display the table we need\n",
    "n = new.groupby(new['Neighbourhood'])\n",
    "\n",
    "from IPython.core.display import display\n",
    "for neighbourhood in myneighbourhoods:\n",
    "    print(neighbourhood)\n",
    "    display(neighbourhoodsvaluecounts(n, neighbourhood))"
   ]
  },
  {
   "cell_type": "markdown",
   "metadata": {
    "id": "OG_qiTq574T5"
   },
   "source": [
    "The top three absent places from the previous section are Resistencia, Gurigica, and Santo Andre. Their reasons for not going back to hospitals are Hipertension, no scholarship, and no SMS received. "
   ]
  },
  {
   "cell_type": "markdown",
   "metadata": {
    "id": "lFJ8I_ad18t0"
   },
   "source": [
    "### Issue counts"
   ]
  },
  {
   "cell_type": "code",
   "execution_count": null,
   "metadata": {
    "colab": {
     "base_uri": "https://localhost:8080/",
     "height": 534
    },
    "id": "gI4ZxOoj_E2h",
    "outputId": "8a1ab260-12da-4818-9159-b5db5f3ee86b"
   },
   "outputs": [
    {
     "data": {
      "image/png": "[encoded data removed]",
      "text/plain": [
       "<Figure size 1058.4x595.44 with 1 Axes>"
      ]
     },
     "metadata": {
      "tags": []
     },
     "output_type": "display_data"
    }
   ],
   "source": [
    "#get transpose (.T) and plot\n",
    "## Reason -x axis variable are the row index\n",
    "\n",
    "new[[\"Scholarship\", \n",
    "     \"Hipertension\", \n",
    "     \"Diabetes\", \n",
    "     \"Alcoholism\", \n",
    "     \"Handicap\", \n",
    "     \"SMS_received\"]].apply(pd.value_counts).T.plot.bar(figsize = [14.7, 8.27], rot = 0)\n",
    "plt.xlabel('Issues')\n",
    "plt.ylabel('Count')\n",
    "plt.title('All Issues');"
   ]
  },
  {
   "cell_type": "markdown",
   "metadata": {
    "id": "tlFktuF-_E2h"
   },
   "source": [
    "Top three factors of not showing up: Hipertension, no scholarship, and no SMS message received.\n",
    "Hipertension, a chronic which might cause severe illness or putting oneself in the risk of death, and it is also the only issue with Yes's more than No's. Secondly, not having financial subsidy could impact the patient's decision of not going to medical centres. Without receiving appointment notification could also be easy to ignore. "
   ]
  },
  {
   "cell_type": "markdown",
   "metadata": {
    "id": "UsjNjX8v_E2i"
   },
   "source": [
    "<a id='sum'></a>\n",
    "## Summary\n",
    "\n",
    "* Female patients tend not to show up at appointments.\n",
    "* Ages around 50 have the most no show up count.\n",
    "* Resistencia has the highest absent rate in hospital returns.\n",
    "* Hipertension, no scholarship, and no SMS received are the top three not showing reasons.\n",
    "\n",
    "We couldn't exactly tell from the sample data about who to blame for the non returning reasons, also the data only shows a part of common issues, however the yes's and no's have a significant difference in their counts, there might have a lot more conditions to consider.\n"
   ]
  },
  {
   "cell_type": "markdown",
   "metadata": {
    "id": "uPI-xaH-_E2j"
   },
   "source": [
    "## References\n",
    "\n",
    "[1][**How to pie Chart with different color themes in Matplotlib?**](https://www.pythonprogramming.in/how-to-pie-chart-with-different-color-themes-in-matplotlib.html)"
   ]
  },
  {
   "cell_type": "markdown",
   "metadata": {
    "id": "c_lc4RTy_E2j"
   },
   "source": [
    "## Submitting your Project \n",
    "\n",
    "> Before you submit your project, you need to create a .html or .pdf version of this notebook in the workspace here. To do that, run the code cell below. If it worked correctly, you should get a return code of 0, and you should see the generated .html file in the workspace directory (click on the orange Jupyter icon in the upper left).\n",
    "\n",
    "> Alternatively, you can download this report as .html via the **File** > **Download as** submenu, and then manually upload it into the workspace directory by clicking on the orange Jupyter icon in the upper left, then using the Upload button.\n",
    "\n",
    "> Once you've done this, you can submit your project by clicking on the \"Submit Project\" button in the lower right here. This will create and submit a zip file with this .ipynb doc and the .html or .pdf version you created. Congratulations!"
   ]
  },
  {
   "cell_type": "code",
   "execution_count": null,
   "metadata": {
    "id": "1BvqaR2M_E2k",
    "outputId": "de654a80-47f0-497d-eb26-254401ee0f0a"
   },
   "outputs": [
    {
     "data": {
      "text/plain": [
       "0"
      ]
     },
     "execution_count": 19,
     "metadata": {
      "tags": []
     },
     "output_type": "execute_result"
    }
   ],
   "source": [
    "from subprocess import call\n",
    "call(['python', '-m', 'nbconvert', 'Investigate_a_Dataset.ipynb'])"
   ]
  },
  {
   "cell_type": "code",
   "execution_count": null,
   "metadata": {
    "id": "HWEc427d_E2k"
   },
   "outputs": [],
   "source": []
  }
 ],
 "metadata": {
  "colab": {
   "collapsed_sections": [],
   "name": "Investigate_absent_appointment.ipynb",
   "provenance": []
  },
  "kernelspec": {
   "display_name": "Python 3",
   "language": "python",
   "name": "python3"
  },
  "language_info": {
   "codemirror_mode": {
    "name": "ipython",
    "version": 3
   },
   "file_extension": ".py",
   "mimetype": "text/x-python",
   "name": "python",
   "nbconvert_exporter": "python",
   "pygments_lexer": "ipython3",
   "version": "3.8.3"
  }
 },
 "nbformat": 4,
 "nbformat_minor": 1
}
